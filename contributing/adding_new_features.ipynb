{
 "cells": [
  {
   "cell_type": "markdown",
   "id": "56e906e8-f766-4ec0-a2a6-b0d14b4a1b4d",
   "metadata": {},
   "source": [
    "# Adding new features to py4vasp"
   ]
  },
  {
   "cell_type": "markdown",
   "id": "e4e1c286-7177-4176-a321-1f7d73f92f3b",
   "metadata": {},
   "source": [
    "The following helper function is useful to look at the code of py4vasp"
   ]
  },
  {
   "cell_type": "code",
   "execution_count": null,
   "id": "95354d2e-9472-4c62-a84b-15b223c0be16",
   "metadata": {},
   "outputs": [],
   "source": [
    "import inspect\n",
    "from IPython.display import HTML\n",
    "from pygments import highlight\n",
    "from pygments.lexers import PythonLexer\n",
    "from pygments.formatters import HtmlFormatter\n",
    "\n",
    "def show_code(obj):\n",
    "    \"Equivalent to print(inspect.getcode(obj)) but with syntax highlighting\"\n",
    "    code = inspect.getsource(obj)\n",
    "    html = highlight(code, PythonLexer(), HtmlFormatter())\n",
    "    css = HtmlFormatter().get_style_defs()\n",
    "    return HTML(f\"<style>{css}</style>{html}\")"
   ]
  },
  {
   "cell_type": "markdown",
   "id": "cb82aa32-be7f-4803-b68c-2473345418b2",
   "metadata": {
    "tags": []
   },
   "source": [
    "## Create a demo HDF5 file"
   ]
  },
  {
   "cell_type": "code",
   "execution_count": null,
   "id": "c3ced89c-3f2c-4027-9e94-bf4355f5523d",
   "metadata": {},
   "outputs": [],
   "source": [
    "import numpy as np\n",
    "import h5py"
   ]
  },
  {
   "cell_type": "markdown",
   "id": "cf0639fd-6dbf-492b-b431-dead56f8060b",
   "metadata": {},
   "source": [
    "Let's generate the energies of an ionic relaxation"
   ]
  },
  {
   "cell_type": "code",
   "execution_count": null,
   "id": "773154a4-d150-4a27-a46d-fab59bcf210c",
   "metadata": {},
   "outputs": [],
   "source": [
    "labels = (\"electronic\", \"ionic\")\n",
    "steps = np.arange(50)\n",
    "electronic = np.exp(-0.1 * steps)\n",
    "ionic = 2 * np.exp(-0.2 * steps)"
   ]
  },
  {
   "cell_type": "markdown",
   "id": "56b7c14a-04eb-4208-af26-5d79c1e50f17",
   "metadata": {},
   "source": [
    "and store it in an HDF5 file. We need to store the version, too, because py4vasp checks whether the version is compatible."
   ]
  },
  {
   "cell_type": "code",
   "execution_count": null,
   "id": "4429140a-eb5b-4c86-81d7-48a3034f5abe",
   "metadata": {},
   "outputs": [],
   "source": [
    "with h5py.File(\"vaspout.h5\", \"w\") as h5f:\n",
    "    h5f[\"version/major\"] = 7\n",
    "    h5f[\"version/minor\"] = 0\n",
    "    h5f[\"version/patch\"] = 0\n",
    "    h5f[\"feature/energies\"] = np.array([electronic, ionic]).T\n",
    "    h5f[\"feature/labels\"] = labels"
   ]
  },
  {
   "cell_type": "markdown",
   "id": "14cddf32-d21b-48c4-9dab-65a513711638",
   "metadata": {},
   "source": [
    "At the end of this introduction, you will know how to add the content to py4vasp and produce a plot like the one below. "
   ]
  },
  {
   "cell_type": "code",
   "execution_count": null,
   "id": "cdfbcfcf-6d63-44b6-9f74-7b5d615490b4",
   "metadata": {},
   "outputs": [],
   "source": [
    "from py4vasp import plot\n",
    "(\n",
    "    plot(steps, electronic, \"electronic\", xlabel=\"step\", ylabel=\"energy\")\n",
    "    + plot(steps, ionic, \"ionic\")\n",
    ")"
   ]
  },
  {
   "cell_type": "markdown",
   "id": "2a7a413d-1226-42b9-ad48-336c3820c9ba",
   "metadata": {
    "tags": []
   },
   "source": [
    "## Simple case: add new source for existing quantity"
   ]
  },
  {
   "cell_type": "markdown",
   "id": "786b4e31-f053-4825-8747-eab5b01c75c5",
   "metadata": {},
   "source": [
    "In this example, we add a new source to the existing Energy class"
   ]
  },
  {
   "cell_type": "code",
   "execution_count": null,
   "id": "6520b36a-66a8-4d3d-ab26-9350fbdb0573",
   "metadata": {},
   "outputs": [],
   "source": [
    "from py4vasp import raw\n",
    "show_code(raw.Energy)"
   ]
  },
  {
   "cell_type": "markdown",
   "id": "1e235352-5fe8-4885-b468-69e1840a0c31",
   "metadata": {},
   "source": [
    "by adding the following code to the [schema definition file](../src/py4vasp/_raw/definition.py).\n",
    "~~~python\n",
    "schema.add(\n",
    "    raw.Energy,\n",
    "    name=\"feature\",\n",
    "    labels=\"feature/labels\",\n",
    "    values=\"feature/energies\",\n",
    ")\n",
    "~~~\n",
    "plotting the new energy already works. Mind that you need to restart the Python kernel so that the changes to py4vasp are imported."
   ]
  },
  {
   "cell_type": "code",
   "execution_count": null,
   "id": "ed4ee9f0-ea3b-4894-8d12-59fc3680188e",
   "metadata": {},
   "outputs": [],
   "source": [
    "from py4vasp import Calculation\n",
    "calc = Calculation.from_path(\".\")\n",
    "calc.energy[:].plot(\"feature(electronic) feature(ionic)\")"
   ]
  },
  {
   "cell_type": "code",
   "execution_count": null,
   "id": "7ae40811-53c4-4d2d-8605-4200d2d42bc5",
   "metadata": {},
   "outputs": [],
   "source": [
    "calc.band.plot(selection=\"kpoints_opt(s)\")"
   ]
  },
  {
   "cell_type": "markdown",
   "id": "6013999c-45eb-4101-88d4-bb5183f3a6e8",
   "metadata": {},
   "source": [
    "The selection string _feature_ indicates that we want to read from the new quantity. It must match with the name that you used to add it to the schema."
   ]
  },
  {
   "cell_type": "markdown",
   "id": "4570f639-25a7-4729-a146-c42d2bbdab47",
   "metadata": {},
   "source": [
    "## General case: Adding a new quantity that does not exist yet"
   ]
  },
  {
   "cell_type": "markdown",
   "id": "8d5b1dc5-8d15-44d3-8bf6-e183379d3d1e",
   "metadata": {
    "tags": []
   },
   "source": [
    "### Introducing the raw quantity"
   ]
  },
  {
   "cell_type": "markdown",
   "id": "df76a35e-f66f-46d4-8311-81d723484c8e",
   "metadata": {},
   "source": [
    "py4vasp by convenction matches refinement classes to the data sources with the same name. Hence, if you want to introduce a functionality like\n",
    "~~~python\n",
    "calc.feature.plot()\n",
    "~~~\n",
    "you need to introduce a new raw.Feature class first [data.py](../src/py4vasp/_raw/data.py). We will use this simple definition\n",
    "~~~python\n",
    "@dataclasses.dataclass\n",
    "class Feature:\n",
    "    labels: VaspData\n",
    "    values: VaspData\n",
    "~~~\n",
    "Note, that the _dataclass_ automatically adds the required constructors, getters, and setters."
   ]
  },
  {
   "cell_type": "markdown",
   "id": "08c5bd1a-96be-45c7-869b-6133b3967098",
   "metadata": {},
   "source": [
    "The next step is to add the quantity to [the schema definition](../src/py4vasp/_raw/definition.py).\n",
    "~~~python\n",
    "schema.add(\n",
    "    raw.Feature,\n",
    "    required=raw.Version(7, 0),\n",
    "    labels=\"feature/labels\",\n",
    "    values=\"feature/energies\",\n",
    ")\n",
    "~~~\n",
    "Here, we didn't use the _name_ argument because this intended to be the default argument."
   ]
  },
  {
   "cell_type": "markdown",
   "id": "a16be242-057b-4161-aeef-a39772ddaadf",
   "metadata": {},
   "source": [
    "This definition introduces the argument _required_. You can use this to specify that this feature is only available starting from a specific VASP version. I recommend this to avoid unnecessary questions in the forum and as a gentle reminder for users to upgrade. If the HDF5 file was produced by an older version of VASP, py4vasp will report an error like.\n",
    "~~~\n",
    "OutdatedVaspVersion: The energy is not available in VASP version 6.4.0. It requires at least version 7.0.0.\n",
    "~~~"
   ]
  },
  {
   "cell_type": "markdown",
   "id": "331debb2-591d-4fba-a62d-813946b3a90d",
   "metadata": {},
   "source": [
    "### Implement the read method"
   ]
  },
  {
   "cell_type": "markdown",
   "id": "c5e766bd-b8d6-4b69-af20-48049482ea1b",
   "metadata": {},
   "source": [
    "In the following, we will use the ipytest package to keep the test in the notebook. For a real new quantity, you would add these tests permanently to the _tests_ directory."
   ]
  },
  {
   "cell_type": "code",
   "execution_count": null,
   "id": "4e726445-fd73-4880-ac94-3af1aafae367",
   "metadata": {},
   "outputs": [],
   "source": [
    "import ipytest\n",
    "ipytest.autoconfig()"
   ]
  },
  {
   "cell_type": "markdown",
   "id": "6c4e6b6b-f643-476a-87a8-262f5a1ea2ba",
   "metadata": {},
   "source": [
    "I recommend writing the tests first, so that you know that the code you write is covered. To do this let's generate some raw data that we can load. For simplicity, we will use the same data that is also in the file."
   ]
  },
  {
   "cell_type": "code",
   "execution_count": null,
   "id": "a726be49-1847-400b-9292-ce02f058f659",
   "metadata": {},
   "outputs": [],
   "source": [
    "from py4vasp import raw\n",
    "import numpy as np\n",
    "\n",
    "labels = (\"electronic\", \"ionic\")\n",
    "steps = np.arange(50)\n",
    "electronic = np.exp(-0.1 * steps)\n",
    "ionic = 2 * np.exp(-0.2 * steps)\n",
    "raw_data = raw.Feature(labels, np.array([electronic, ionic]).T)"
   ]
  },
  {
   "cell_type": "markdown",
   "id": "ab93c186-b99e-4beb-b9b1-763795ecb384",
   "metadata": {},
   "source": [
    "Next, we generate a simple test to verify that _read_ returns a dictionary with two entries \"electronic\" and \"ionic\" that match the raw data."
   ]
  },
  {
   "cell_type": "code",
   "execution_count": null,
   "id": "c2517704-df41-4950-9c05-cfb89c5f2969",
   "metadata": {},
   "outputs": [],
   "source": [
    "%%ipytest -qq\n",
    "\n",
    "from py4vasp.data import Feature\n",
    "\n",
    "def test_read():\n",
    "    feature = Feature.from_data(raw_data)\n",
    "    actual = feature.read()\n",
    "    assert np.allclose(actual[\"electronic\"], electronic)\n",
    "    assert np.allclose(actual[\"ionic\"], ionic)"
   ]
  },
  {
   "cell_type": "markdown",
   "id": "6397abc2-d60c-47ab-b207-f71545d94aa2",
   "metadata": {},
   "source": [
    "Of course the test fails, because the class _Feature_ does not exist. The first step is to create the necessary placeholders. Let's do this by adding\n",
    "~~~python\n",
    "from py4vasp._data.feature import Feature\n",
    "~~~\n",
    "to the [data module](../src/py4vasp/data.py). Then we define a placeholder class\n",
    "~~~python\n",
    "class Feature:\n",
    "    pass\n",
    "~~~\n",
    "in the [feature module](../src/py4vasp/_data/feature.py)."
   ]
  },
  {
   "cell_type": "markdown",
   "id": "eb7b1099-c2ec-4e13-a088-25fa6866dd43",
   "metadata": {},
   "source": [
    "If we run the tests again (keep in mind to restart the kernel), the error message changes, because the classmethod _from_data_ is not defined. We can this by modifying the Feature class\n",
    "~~~python\n",
    "from py4vasp._data import base\n",
    "\n",
    "class Feature(base.Refinery):\n",
    "    \"py4vasp requires that all classes are documented.\"\n",
    "~~~\n",
    "This resolves the error with the classmethod. We can also see that the _read_ method is already successfully called."
   ]
  },
  {
   "cell_type": "markdown",
   "id": "57d455e1-5f07-4565-ac16-5ada18b4ca19",
   "metadata": {},
   "source": [
    "However, the _read_ method internally calls the _to_dict_ method which the child needs to define. Let's introduce this method in the Feature class\n",
    "~~~python\n",
    "def to_dict(self):\n",
    "    import numpy as np\n",
    "    labels = self._raw_data.labels\n",
    "    values = np.array(self._raw_data.values).T\n",
    "    return { label: data for label, data in zip(labels, values) }\n",
    "~~~\n",
    "to make the tests pass. Note where the data comes from: By inheriting from Refinery, Feature obtains the __raw_data_ attribute."
   ]
  },
  {
   "cell_type": "markdown",
   "id": "4e673117-73c5-47b0-994d-675e37954427",
   "metadata": {},
   "source": [
    "At the moment this only works for the example data. To make it work from the HDF5 file, we need to add a decorator\n",
    "~~~python\n",
    "@base.data_access\n",
    "~~~\n",
    "to the _to_dict_ method. This decorator does the following things:\n",
    "\n",
    "* The first time any decorated method is called the relevant HDF5 file is opened. When the method returns the file is closed again. Therefore you can nest decorated methods and it will only open/close the file once.\n",
    "* It will add an _selection_ argument to the function to decide which quantity is read from the HDF5 file. The __raw_data_ attribute is set to the appropriate one.\n",
    "* There is logic in place so that the _selection_ works even if the inner function has a selection as well.\n",
    "\n",
    "Note that the results are only read from the HDF5 file when they are needed. At the time of the request, it will only create a pointer to the relevant dataset. Therefore, you need to load the data explicitly e.g. by accessing a subsection."
   ]
  },
  {
   "cell_type": "markdown",
   "id": "386e4ea8-730e-4677-9931-d47303951bf0",
   "metadata": {},
   "source": [
    "The Calculation class automatically adds all Refinery subclasses so that reading from a file or a path works."
   ]
  },
  {
   "cell_type": "code",
   "execution_count": null,
   "id": "8f25175d-3fed-4963-b6d7-4daf49b64b0b",
   "metadata": {},
   "outputs": [],
   "source": [
    "from py4vasp import Calculation\n",
    "\n",
    "calc = Calculation.from_path(\".\")\n",
    "calc.feature.read()"
   ]
  },
  {
   "cell_type": "code",
   "execution_count": null,
   "id": "ac9c3f7b-d125-472d-893b-cb8bcb759e06",
   "metadata": {},
   "outputs": [],
   "source": [
    "calc = Calculation.from_file(\"vaspout.h5\")\n",
    "calc.feature.read()"
   ]
  },
  {
   "cell_type": "markdown",
   "id": "167252fe-7ac6-4420-aaab-c200fd9bf576",
   "metadata": {},
   "source": [
    "Notice that the labels are returned as _bytes_ type because the data is stored in this way in the HDF5 file. py4vasp defines some helper functions to deal with this issues in the __util_ module."
   ]
  },
  {
   "cell_type": "markdown",
   "id": "9bbdd8a9-b411-4c98-bbdf-8ceebaba340d",
   "metadata": {},
   "source": [
    "### Implement the plot method"
   ]
  },
  {
   "cell_type": "markdown",
   "id": "d47977ac-81ca-441d-abca-4b1e56f07a0b",
   "metadata": {},
   "source": [
    "Again, we start by defining a simple test case that we make pass afterwards"
   ]
  },
  {
   "cell_type": "code",
   "execution_count": null,
   "id": "3a80d5de-9cd2-4d5d-8b70-c50e7bf90387",
   "metadata": {},
   "outputs": [],
   "source": [
    "import ipytest\n",
    "ipytest.autoconfig()"
   ]
  },
  {
   "cell_type": "code",
   "execution_count": null,
   "id": "888851a5-59df-4136-9e5e-539b88e5faa4",
   "metadata": {},
   "outputs": [],
   "source": [
    "from py4vasp import raw\n",
    "import numpy as np\n",
    "\n",
    "labels = (\"electronic\", \"ionic\")\n",
    "steps = np.arange(50)\n",
    "electronic = np.exp(-0.1 * steps)\n",
    "ionic = 2 * np.exp(-0.2 * steps)\n",
    "raw_data = raw.Feature(labels, np.array([electronic, ionic]).T)"
   ]
  },
  {
   "cell_type": "code",
   "execution_count": null,
   "id": "1dbeaf43-51ec-4b57-bf99-3b5842e7f6d7",
   "metadata": {},
   "outputs": [],
   "source": [
    "%%ipytest -qq\n",
    "\n",
    "from py4vasp.data import Feature\n",
    "\n",
    "def test_plot():\n",
    "    feature = Feature.from_data(raw_data)\n",
    "    actual = feature.plot()\n",
    "    #\n",
    "    assert actual.xlabel == \"step\"\n",
    "    assert actual.ylabel == \"energy\"\n",
    "    assert len(actual.series) == 2\n",
    "    series_electronic, series_ionic = actual.series\n",
    "    #\n",
    "    assert series_electronic.name == \"electronic\"\n",
    "    assert np.allclose(series_electronic.x, steps)\n",
    "    assert np.allclose(series_electronic.y, electronic)\n",
    "    #\n",
    "    assert series_ionic.name == \"ionic\"\n",
    "    assert np.allclose(series_ionic.x, steps)\n",
    "    assert np.allclose(series_ionic.y, ionic)"
   ]
  },
  {
   "cell_type": "markdown",
   "id": "72d4194d-46fc-4ced-9157-3f9486d00c48",
   "metadata": {},
   "source": [
    "py4vasp has a _Graph_ and _Series_ class to wrap around the functionality provided by external plotting libraries. In this way only the relevant subset is supported and it is easier to swap out the current library (plotly) with a different one. All the conversion functionality is added by a _Mixin_ class so that we modify the header of the _Feature_ class [(feature.py)](../src/py4vasp/_data/feature.py) as follows\n",
    "~~~python\n",
    "import numpy as np\n",
    "from py4vasp._data import base\n",
    "from py4vasp._third_party import graph\n",
    "from py4vasp._util import convert\n",
    "\n",
    "class Feature(base.Refinery, graph.Mixin):\n",
    "    # ...\n",
    "~~~"
   ]
  },
  {
   "cell_type": "markdown",
   "id": "380256ad-ea7b-4843-93f0-daedf672b2ec",
   "metadata": {},
   "source": [
    "This will still fail the test, because we did not define the method _to_graph_ that _Mixin_ expects. Let's introduce it now\n",
    "~~~python\n",
    "@base.data_access\n",
    "def to_graph(self):\n",
    "    data = self.to_dict()\n",
    "    steps = np.arange(len(self._raw_data.values))\n",
    "    series = [\n",
    "        graph.Series(steps, val, convert.text_to_string(key))\n",
    "        for key, val in data.items()\n",
    "    ]\n",
    "    return graph.Graph(series, xlabel=\"step\", ylabel=\"energy\")\n",
    "~~~\n",
    "to make the test pass."
   ]
  },
  {
   "cell_type": "markdown",
   "id": "7b9c8e48-20b4-4fc9-a2ee-afb109014317",
   "metadata": {},
   "source": [
    "Because of the decorator we can plot the data from the HDF5 file."
   ]
  },
  {
   "cell_type": "code",
   "execution_count": null,
   "id": "b88260b0-68c4-40e0-b24c-96e5c0b09f5d",
   "metadata": {},
   "outputs": [],
   "source": [
    "from py4vasp import Calculation\n",
    "\n",
    "calc = Calculation.from_path(\".\")\n",
    "calc.feature.plot()"
   ]
  },
  {
   "cell_type": "markdown",
   "id": "e5acaba6-9b2f-403c-8b65-89c5633e4a49",
   "metadata": {},
   "source": [
    "The _Mixin_ also defines functions to convert the plot to an image"
   ]
  },
  {
   "cell_type": "code",
   "execution_count": null,
   "id": "ee4a86a1-65e4-4b65-9d2b-8cb22c6bbf4a",
   "metadata": {},
   "outputs": [],
   "source": [
    "calc.feature.to_image(filename=\"feature.png\")"
   ]
  }
 ],
 "metadata": {
  "kernelspec": {
   "display_name": "Python 3 (ipykernel)",
   "language": "python",
   "name": "python3"
  },
  "language_info": {
   "codemirror_mode": {
    "name": "ipython",
    "version": 3
   },
   "file_extension": ".py",
   "mimetype": "text/x-python",
   "name": "python",
   "nbconvert_exporter": "python",
   "pygments_lexer": "ipython3",
   "version": "3.8.15"
  },
  "widgets": {
   "application/vnd.jupyter.widget-state+json": {
    "state": {},
    "version_major": 2,
    "version_minor": 0
   }
  }
 },
 "nbformat": 4,
 "nbformat_minor": 5
}
